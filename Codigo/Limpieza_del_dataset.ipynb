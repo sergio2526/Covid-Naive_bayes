{
  "nbformat": 4,
  "nbformat_minor": 0,
  "metadata": {
    "colab": {
      "name": "Limpieza del dataset.ipynb",
      "provenance": []
    },
    "kernelspec": {
      "name": "python3",
      "display_name": "Python 3"
    }
  },
  "cells": [
    {
      "cell_type": "code",
      "metadata": {
        "id": "i2NvelZ-yWkx",
        "colab_type": "code",
        "colab": {}
      },
      "source": [
        "import pandas as pd"
      ],
      "execution_count": 0,
      "outputs": []
    },
    {
      "cell_type": "code",
      "metadata": {
        "id": "llqSliUJyvyZ",
        "colab_type": "code",
        "colab": {}
      },
      "source": [
        "df = pd.read_csv('Casos.csv')\n"
      ],
      "execution_count": 0,
      "outputs": []
    },
    {
      "cell_type": "code",
      "metadata": {
        "id": "JGKyJ7lfy5-z",
        "colab_type": "code",
        "colab": {}
      },
      "source": [
        "df.rename(columns={'ID de caso':'Id','Fecha de diagnóstico':'Fecha','Ciudad de ubicación':'Ciudad_ubicacion',\n",
        "                   'Departamento o Distrito':'Departamento', 'Atención**':'Atencion',\t'Tipo*':'Tipo','País de procedencia':'Pais_procedencia'}, inplace = True)"
      ],
      "execution_count": 0,
      "outputs": []
    },
    {
      "cell_type": "code",
      "metadata": {
        "id": "WntKzQUTzxxE",
        "colab_type": "code",
        "colab": {
          "base_uri": "https://localhost:8080/",
          "height": 419
        },
        "outputId": "0a689912-98ae-44b7-e330-0b8b708c9b09"
      },
      "source": [
        "df"
      ],
      "execution_count": 100,
      "outputs": [
        {
          "output_type": "execute_result",
          "data": {
            "text/html": [
              "<div>\n",
              "<style scoped>\n",
              "    .dataframe tbody tr th:only-of-type {\n",
              "        vertical-align: middle;\n",
              "    }\n",
              "\n",
              "    .dataframe tbody tr th {\n",
              "        vertical-align: top;\n",
              "    }\n",
              "\n",
              "    .dataframe thead th {\n",
              "        text-align: right;\n",
              "    }\n",
              "</style>\n",
              "<table border=\"1\" class=\"dataframe\">\n",
              "  <thead>\n",
              "    <tr style=\"text-align: right;\">\n",
              "      <th></th>\n",
              "      <th>Id</th>\n",
              "      <th>Fecha</th>\n",
              "      <th>Ciudad_ubicacion</th>\n",
              "      <th>Departamento</th>\n",
              "      <th>Atencion</th>\n",
              "      <th>Edad</th>\n",
              "      <th>Sexo</th>\n",
              "      <th>Tipo</th>\n",
              "      <th>Pais_procedencia</th>\n",
              "    </tr>\n",
              "  </thead>\n",
              "  <tbody>\n",
              "    <tr>\n",
              "      <th>0</th>\n",
              "      <td>1</td>\n",
              "      <td>06/03/2020</td>\n",
              "      <td>Bogotá</td>\n",
              "      <td>Bogotá D.C.</td>\n",
              "      <td>Recuperado</td>\n",
              "      <td>19</td>\n",
              "      <td>F</td>\n",
              "      <td>Importado</td>\n",
              "      <td>Italia</td>\n",
              "    </tr>\n",
              "    <tr>\n",
              "      <th>1</th>\n",
              "      <td>2</td>\n",
              "      <td>09/03/2020</td>\n",
              "      <td>Buga</td>\n",
              "      <td>Valle del Cauca</td>\n",
              "      <td>Recuperado</td>\n",
              "      <td>34</td>\n",
              "      <td>M</td>\n",
              "      <td>Importado</td>\n",
              "      <td>España</td>\n",
              "    </tr>\n",
              "    <tr>\n",
              "      <th>2</th>\n",
              "      <td>3</td>\n",
              "      <td>09/03/2020</td>\n",
              "      <td>Medellín</td>\n",
              "      <td>Antioquia</td>\n",
              "      <td>Recuperado</td>\n",
              "      <td>50</td>\n",
              "      <td>F</td>\n",
              "      <td>Importado</td>\n",
              "      <td>España</td>\n",
              "    </tr>\n",
              "    <tr>\n",
              "      <th>3</th>\n",
              "      <td>4</td>\n",
              "      <td>11/03/2020</td>\n",
              "      <td>Medellín</td>\n",
              "      <td>Antioquia</td>\n",
              "      <td>Recuperado</td>\n",
              "      <td>55</td>\n",
              "      <td>M</td>\n",
              "      <td>Relacionado</td>\n",
              "      <td>Colombia</td>\n",
              "    </tr>\n",
              "    <tr>\n",
              "      <th>4</th>\n",
              "      <td>5</td>\n",
              "      <td>11/03/2020</td>\n",
              "      <td>Medellín</td>\n",
              "      <td>Antioquia</td>\n",
              "      <td>Recuperado</td>\n",
              "      <td>25</td>\n",
              "      <td>M</td>\n",
              "      <td>Relacionado</td>\n",
              "      <td>Colombia</td>\n",
              "    </tr>\n",
              "    <tr>\n",
              "      <th>...</th>\n",
              "      <td>...</td>\n",
              "      <td>...</td>\n",
              "      <td>...</td>\n",
              "      <td>...</td>\n",
              "      <td>...</td>\n",
              "      <td>...</td>\n",
              "      <td>...</td>\n",
              "      <td>...</td>\n",
              "      <td>...</td>\n",
              "    </tr>\n",
              "    <tr>\n",
              "      <th>2704</th>\n",
              "      <td>2705</td>\n",
              "      <td>11/04/2020</td>\n",
              "      <td>Sopó</td>\n",
              "      <td>Cundinamarca</td>\n",
              "      <td>Casa</td>\n",
              "      <td>68</td>\n",
              "      <td>F</td>\n",
              "      <td>Importado</td>\n",
              "      <td>España</td>\n",
              "    </tr>\n",
              "    <tr>\n",
              "      <th>2705</th>\n",
              "      <td>2706</td>\n",
              "      <td>11/04/2020</td>\n",
              "      <td>Pacho</td>\n",
              "      <td>Cundinamarca</td>\n",
              "      <td>Casa</td>\n",
              "      <td>54</td>\n",
              "      <td>M</td>\n",
              "      <td>En estudio</td>\n",
              "      <td>Colombia</td>\n",
              "    </tr>\n",
              "    <tr>\n",
              "      <th>2706</th>\n",
              "      <td>2707</td>\n",
              "      <td>11/04/2020</td>\n",
              "      <td>Pacho</td>\n",
              "      <td>Cundinamarca</td>\n",
              "      <td>Hospital</td>\n",
              "      <td>49</td>\n",
              "      <td>F</td>\n",
              "      <td>En estudio</td>\n",
              "      <td>Colombia</td>\n",
              "    </tr>\n",
              "    <tr>\n",
              "      <th>2707</th>\n",
              "      <td>2708</td>\n",
              "      <td>11/04/2020</td>\n",
              "      <td>Monteria</td>\n",
              "      <td>Córdoba</td>\n",
              "      <td>Casa</td>\n",
              "      <td>26</td>\n",
              "      <td>F</td>\n",
              "      <td>En estudio</td>\n",
              "      <td>Colombia</td>\n",
              "    </tr>\n",
              "    <tr>\n",
              "      <th>2708</th>\n",
              "      <td>2709</td>\n",
              "      <td>11/04/2020</td>\n",
              "      <td>Medellín</td>\n",
              "      <td>Antioquia</td>\n",
              "      <td>Casa</td>\n",
              "      <td>72</td>\n",
              "      <td>M</td>\n",
              "      <td>En estudio</td>\n",
              "      <td>Colombia</td>\n",
              "    </tr>\n",
              "  </tbody>\n",
              "</table>\n",
              "<p>2709 rows × 9 columns</p>\n",
              "</div>"
            ],
            "text/plain": [
              "        Id       Fecha Ciudad_ubicacion  ... Sexo         Tipo  Pais_procedencia\n",
              "0        1  06/03/2020           Bogotá  ...    F    Importado            Italia\n",
              "1        2  09/03/2020             Buga  ...    M    Importado            España\n",
              "2        3  09/03/2020         Medellín  ...    F    Importado            España\n",
              "3        4  11/03/2020         Medellín  ...    M  Relacionado          Colombia\n",
              "4        5  11/03/2020         Medellín  ...    M  Relacionado          Colombia\n",
              "...    ...         ...              ...  ...  ...          ...               ...\n",
              "2704  2705  11/04/2020             Sopó  ...    F    Importado            España\n",
              "2705  2706  11/04/2020            Pacho  ...    M   En estudio          Colombia\n",
              "2706  2707  11/04/2020            Pacho  ...    F   En estudio          Colombia\n",
              "2707  2708  11/04/2020         Monteria  ...    F   En estudio          Colombia\n",
              "2708  2709  11/04/2020         Medellín  ...    M   En estudio          Colombia\n",
              "\n",
              "[2709 rows x 9 columns]"
            ]
          },
          "metadata": {
            "tags": []
          },
          "execution_count": 100
        }
      ]
    },
    {
      "cell_type": "markdown",
      "metadata": {
        "id": "a8-jrixu0JHu",
        "colab_type": "text"
      },
      "source": [
        "# Filtramos a las personas que se encuentran en Casa, Hospital, UCI"
      ]
    },
    {
      "cell_type": "code",
      "metadata": {
        "id": "mt4uZt8k1YMN",
        "colab_type": "code",
        "colab": {
          "base_uri": "https://localhost:8080/",
          "height": 51
        },
        "outputId": "6e0ef231-b468-40f8-97a1-c31e16742074"
      },
      "source": [
        "df['Atencion'].unique()"
      ],
      "execution_count": 101,
      "outputs": [
        {
          "output_type": "execute_result",
          "data": {
            "text/plain": [
              "array(['Recuperado', 'Casa', 'Hospital', 'Hospital UCI', 'Fallecido',\n",
              "       'Recuperado (Hospital)'], dtype=object)"
            ]
          },
          "metadata": {
            "tags": []
          },
          "execution_count": 101
        }
      ]
    },
    {
      "cell_type": "code",
      "metadata": {
        "id": "EtYWL_HN0hRR",
        "colab_type": "code",
        "colab": {}
      },
      "source": [
        "df = df.drop(df[df['Atencion']=='Recuperado'].index)\n",
        "df = df.drop(df[df['Atencion']=='Recuperado (Hospital)'].index)"
      ],
      "execution_count": 0,
      "outputs": []
    },
    {
      "cell_type": "code",
      "metadata": {
        "id": "JTY7h-Da-lNh",
        "colab_type": "code",
        "colab": {
          "base_uri": "https://localhost:8080/",
          "height": 34
        },
        "outputId": "17051bb5-a3b8-4584-ff32-b3d92e5bef3e"
      },
      "source": [
        "df['Atencion'].unique()"
      ],
      "execution_count": 106,
      "outputs": [
        {
          "output_type": "execute_result",
          "data": {
            "text/plain": [
              "array(['Casa', 'Hospital', 'Hospital UCI', 'Fallecido'], dtype=object)"
            ]
          },
          "metadata": {
            "tags": []
          },
          "execution_count": 106
        }
      ]
    },
    {
      "cell_type": "markdown",
      "metadata": {
        "id": "Iohx61qJ_DAi",
        "colab_type": "text"
      },
      "source": [
        "## Se factorizan las columnas"
      ]
    },
    {
      "cell_type": "code",
      "metadata": {
        "id": "hZJdIeJT3keS",
        "colab_type": "code",
        "colab": {}
      },
      "source": [
        "df['Ciudad_ubicacion'] = pd.factorize(df['Ciudad_ubicacion'])[0]\n",
        "df['Departamento'] = pd.factorize(df['Departamento'])[0]\n",
        "df['Atencion'] = pd.factorize(df['Atencion'])[0]\n",
        "df['Sexo'] = pd.factorize(df['Sexo'])[0]\n",
        "df['Tipo'] = pd.factorize(df['Tipo'])[0]\n",
        "df['Pais_procedencia'] = pd.factorize(df['Pais_procedencia'])[0]\n",
        "\n",
        "\n"
      ],
      "execution_count": 0,
      "outputs": []
    },
    {
      "cell_type": "markdown",
      "metadata": {
        "id": "QYH8k3Zm2Xrh",
        "colab_type": "text"
      },
      "source": [
        "## Tamaño total de nuestro dataset"
      ]
    },
    {
      "cell_type": "code",
      "metadata": {
        "id": "8Njf_c9o1XrF",
        "colab_type": "code",
        "colab": {
          "base_uri": "https://localhost:8080/",
          "height": 34
        },
        "outputId": "ada3984b-f0a6-477d-ce45-0b64abdf4d88"
      },
      "source": [
        "df.shape"
      ],
      "execution_count": 108,
      "outputs": [
        {
          "output_type": "execute_result",
          "data": {
            "text/plain": [
              "(2495, 9)"
            ]
          },
          "metadata": {
            "tags": []
          },
          "execution_count": 108
        }
      ]
    },
    {
      "cell_type": "code",
      "metadata": {
        "id": "XqetDBHRBEcC",
        "colab_type": "code",
        "colab": {}
      },
      "source": [
        "df = df.drop(['Fecha'],axis=1)"
      ],
      "execution_count": 0,
      "outputs": []
    },
    {
      "cell_type": "code",
      "metadata": {
        "id": "sB5FtiN0BH-l",
        "colab_type": "code",
        "colab": {
          "base_uri": "https://localhost:8080/",
          "height": 359
        },
        "outputId": "8b5d054f-ec1f-49ca-a52e-4a6c820a0eae"
      },
      "source": [
        "df.head(10)"
      ],
      "execution_count": 123,
      "outputs": [
        {
          "output_type": "execute_result",
          "data": {
            "text/html": [
              "<div>\n",
              "<style scoped>\n",
              "    .dataframe tbody tr th:only-of-type {\n",
              "        vertical-align: middle;\n",
              "    }\n",
              "\n",
              "    .dataframe tbody tr th {\n",
              "        vertical-align: top;\n",
              "    }\n",
              "\n",
              "    .dataframe thead th {\n",
              "        text-align: right;\n",
              "    }\n",
              "</style>\n",
              "<table border=\"1\" class=\"dataframe\">\n",
              "  <thead>\n",
              "    <tr style=\"text-align: right;\">\n",
              "      <th></th>\n",
              "      <th>Id</th>\n",
              "      <th>Ciudad_ubicacion</th>\n",
              "      <th>Departamento</th>\n",
              "      <th>Atencion</th>\n",
              "      <th>Edad</th>\n",
              "      <th>Sexo</th>\n",
              "      <th>Tipo</th>\n",
              "      <th>Pais_procedencia</th>\n",
              "    </tr>\n",
              "  </thead>\n",
              "  <tbody>\n",
              "    <tr>\n",
              "      <th>10</th>\n",
              "      <td>11</td>\n",
              "      <td>0</td>\n",
              "      <td>0</td>\n",
              "      <td>0</td>\n",
              "      <td>42</td>\n",
              "      <td>0</td>\n",
              "      <td>0</td>\n",
              "      <td>0</td>\n",
              "    </tr>\n",
              "    <tr>\n",
              "      <th>11</th>\n",
              "      <td>12</td>\n",
              "      <td>1</td>\n",
              "      <td>1</td>\n",
              "      <td>0</td>\n",
              "      <td>74</td>\n",
              "      <td>0</td>\n",
              "      <td>0</td>\n",
              "      <td>1</td>\n",
              "    </tr>\n",
              "    <tr>\n",
              "      <th>17</th>\n",
              "      <td>18</td>\n",
              "      <td>0</td>\n",
              "      <td>0</td>\n",
              "      <td>0</td>\n",
              "      <td>54</td>\n",
              "      <td>1</td>\n",
              "      <td>0</td>\n",
              "      <td>0</td>\n",
              "    </tr>\n",
              "    <tr>\n",
              "      <th>20</th>\n",
              "      <td>21</td>\n",
              "      <td>2</td>\n",
              "      <td>2</td>\n",
              "      <td>0</td>\n",
              "      <td>28</td>\n",
              "      <td>1</td>\n",
              "      <td>1</td>\n",
              "      <td>2</td>\n",
              "    </tr>\n",
              "    <tr>\n",
              "      <th>24</th>\n",
              "      <td>25</td>\n",
              "      <td>3</td>\n",
              "      <td>3</td>\n",
              "      <td>0</td>\n",
              "      <td>49</td>\n",
              "      <td>1</td>\n",
              "      <td>0</td>\n",
              "      <td>0</td>\n",
              "    </tr>\n",
              "    <tr>\n",
              "      <th>27</th>\n",
              "      <td>28</td>\n",
              "      <td>4</td>\n",
              "      <td>4</td>\n",
              "      <td>0</td>\n",
              "      <td>22</td>\n",
              "      <td>1</td>\n",
              "      <td>0</td>\n",
              "      <td>3</td>\n",
              "    </tr>\n",
              "    <tr>\n",
              "      <th>32</th>\n",
              "      <td>33</td>\n",
              "      <td>0</td>\n",
              "      <td>0</td>\n",
              "      <td>1</td>\n",
              "      <td>59</td>\n",
              "      <td>1</td>\n",
              "      <td>0</td>\n",
              "      <td>0</td>\n",
              "    </tr>\n",
              "    <tr>\n",
              "      <th>44</th>\n",
              "      <td>45</td>\n",
              "      <td>5</td>\n",
              "      <td>5</td>\n",
              "      <td>0</td>\n",
              "      <td>29</td>\n",
              "      <td>1</td>\n",
              "      <td>0</td>\n",
              "      <td>0</td>\n",
              "    </tr>\n",
              "    <tr>\n",
              "      <th>45</th>\n",
              "      <td>46</td>\n",
              "      <td>0</td>\n",
              "      <td>0</td>\n",
              "      <td>0</td>\n",
              "      <td>44</td>\n",
              "      <td>0</td>\n",
              "      <td>1</td>\n",
              "      <td>2</td>\n",
              "    </tr>\n",
              "    <tr>\n",
              "      <th>46</th>\n",
              "      <td>47</td>\n",
              "      <td>0</td>\n",
              "      <td>0</td>\n",
              "      <td>0</td>\n",
              "      <td>38</td>\n",
              "      <td>1</td>\n",
              "      <td>1</td>\n",
              "      <td>2</td>\n",
              "    </tr>\n",
              "  </tbody>\n",
              "</table>\n",
              "</div>"
            ],
            "text/plain": [
              "    Id  Ciudad_ubicacion  Departamento  ...  Sexo  Tipo  Pais_procedencia\n",
              "10  11                 0             0  ...     0     0                 0\n",
              "11  12                 1             1  ...     0     0                 1\n",
              "17  18                 0             0  ...     1     0                 0\n",
              "20  21                 2             2  ...     1     1                 2\n",
              "24  25                 3             3  ...     1     0                 0\n",
              "27  28                 4             4  ...     1     0                 3\n",
              "32  33                 0             0  ...     1     0                 0\n",
              "44  45                 5             5  ...     1     0                 0\n",
              "45  46                 0             0  ...     0     1                 2\n",
              "46  47                 0             0  ...     1     1                 2\n",
              "\n",
              "[10 rows x 8 columns]"
            ]
          },
          "metadata": {
            "tags": []
          },
          "execution_count": 123
        }
      ]
    },
    {
      "cell_type": "markdown",
      "metadata": {
        "id": "MCI751Th_IQ0",
        "colab_type": "text"
      },
      "source": [
        "Exportando data"
      ]
    },
    {
      "cell_type": "code",
      "metadata": {
        "id": "5kOlqdQI1Tsr",
        "colab_type": "code",
        "colab": {}
      },
      "source": [
        "df.to_csv('Casos-coronavirus-colombia.csv')"
      ],
      "execution_count": 0,
      "outputs": []
    }
  ]
}